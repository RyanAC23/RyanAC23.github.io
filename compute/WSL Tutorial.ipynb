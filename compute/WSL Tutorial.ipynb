{
 "cells": [
  {
   "cell_type": "markdown",
   "metadata": {
    "toc": true
   },
   "source": [
    "<h1>Table of Contents<span class=\"tocSkip\"></span></h1>\n",
    "<div class=\"toc\" style=\"margin-top: 1em;\"><ul class=\"toc-item\"><li><span><a href=\"#Windows-Subsystem-Linux-(WSL)-Tutorial\" data-toc-modified-id=\"Windows-Subsystem-Linux-(WSL)-Tutorial-1\">Windows Subsystem Linux (WSL) Tutorial</a></span></li><li><span><a href=\"#1.-Setting-Up-Bash-on-Windows\" data-toc-modified-id=\"1.-Setting-Up-Bash-on-Windows-2\">1. Setting Up Bash on Windows</a></span></li><li><span><a href=\"#2.-Installing-Basic-Packages\" data-toc-modified-id=\"2.-Installing-Basic-Packages-3\">2. Installing Basic Packages</a></span></li><li><span><a href=\"#3.-Conda\" data-toc-modified-id=\"3.-Conda-4\">3. Conda</a></span><ul class=\"toc-item\"><li><span><a href=\"#3.1a.-Miniconda\" data-toc-modified-id=\"3.1a.-Miniconda-4.1\">3.1a. Miniconda</a></span></li><li><span><a href=\"#3.1b.-Anaconda\" data-toc-modified-id=\"3.1b.-Anaconda-4.2\">3.1b. Anaconda</a></span></li><li><span><a href=\"#3.2.-Workspaces\" data-toc-modified-id=\"3.2.-Workspaces-4.3\">3.2. Workspaces</a></span></li><li><span><a href=\"#3.4.-Jupyter-Notebooks\" data-toc-modified-id=\"3.4.-Jupyter-Notebooks-4.4\">3.4. Jupyter Notebooks</a></span><ul class=\"toc-item\"><li><span><a href=\"#3.4.1-Browser-Configuration\" data-toc-modified-id=\"3.4.1-Browser-Configuration-4.4.1\">3.4.1 Browser Configuration</a></span></li></ul></li></ul></li><li><span><a href=\"#4.-Git,-Hg,-SSH\" data-toc-modified-id=\"4.-Git,-Hg,-SSH-5\">4. Git, Hg, SSH</a></span><ul class=\"toc-item\"><li><span><a href=\"#4.1.-SSH\" data-toc-modified-id=\"4.1.-SSH-5.1\">4.1. SSH</a></span></li><li><span><a href=\"#4.2.-Later\" data-toc-modified-id=\"4.2.-Later-5.2\">4.2. Later</a></span></li><li><span><a href=\"#4.3.-Git-Commands\" data-toc-modified-id=\"4.3.-Git-Commands-5.3\">4.3. Git Commands</a></span></li><li><span><a href=\"#4.4.-Hg-Commands\" data-toc-modified-id=\"4.4.-Hg-Commands-5.4\">4.4. Hg Commands</a></span></li></ul></li><li><span><a href=\"#Appendix\" data-toc-modified-id=\"Appendix-6\">Appendix</a></span><ul class=\"toc-item\"><li><span><a href=\"#A.-Bash-Cheat-Sheet\" data-toc-modified-id=\"A.-Bash-Cheat-Sheet-6.1\">A. Bash Cheat Sheet</a></span></li><li><span><a href=\"#B.-Extras\" data-toc-modified-id=\"B.-Extras-6.2\">B. Extras</a></span></li><li><span><a href=\"#Z.-Things-to-Add\" data-toc-modified-id=\"Z.-Things-to-Add-6.3\">Z. Things to Add</a></span></li></ul></li></ul></div>"
   ]
  },
  {
   "cell_type": "markdown",
   "metadata": {},
   "source": [
    "# Windows Subsystem Linux (WSL) Tutorial"
   ]
  },
  {
   "cell_type": "markdown",
   "metadata": {},
   "source": [
    "# 1. Setting Up Bash on Windows"
   ]
  },
  {
   "cell_type": "markdown",
   "metadata": {},
   "source": [
    "Windows has given a prototype way to install Ubuntu Linux on Windows 10, and that might make you happy. No more need for a virtual machine! Here's what you need to do.\n",
    "\n",
    "This step mostly follows the [official Microsoft page](https://msdn.microsoft.com/en-us/commandline/wsl/install-win10?f=255&MSPPError=-2147217396) for activating Ubuntu on Windows.\n",
    "\n",
    "The very first thing you should do is open PowerShell as an Administrator on your Windows 10 system. Either navigate to PowerShell in your program list or... actually I suggest that method. Windows has a program launcher with [Windows key + R], but if you run PowerShell this way it will only run as Administrator if you've preemptively set the program to run as Administrator by default. So you can go through the meta step to accomplish the same thing with more work, or just right mouse click the PowerShell icon on your start menu and click \"Run as Administrator\".\n",
    "After that, run the following command.\n",
    "\n",
    ">`Enable-WindowsOptionalFeature -Online -FeatureName Microsoft-Windows-Subsystem-Linux`\n",
    "\n",
    "Restart your computer and navigate to **Settings -> Update and Security -> For developers**. Click \"Developer Mode\" to enable... developer mode. This may take a few minutes, try not to throw your computer at a wall. Once this is done, click [Windows+R], type \"cmd\", and the command prompt will open. Alternatively, you could just open a command prompt from the start menu. After this, type \"bash\" to run bash, and run through the installation jazz. \n",
    "\n",
    "The Microsoft page says to \"Launch a new Ubuntu shell by either:\n",
    "    - Running bash from a command-prompt\n",
    "    - Clicking the start menu shortcut\n",
    "I insist you do the latter until you're comfortable with what you're doing. It's a red-orange icon, called **Bash on Ubuntu on Windows**. Just make a shortcut for this and don't run through *cmd*. It works fine, but defaults to a directory much nearer to your Windows filesystem and will screw things up if you aren't sure what you're doing. Trust me.\n",
    "\n",
    "Trust me.\n",
    "\n",
    "By the way, your Linux distribution is allegedly saved in\n",
    "> %localappdata%\\lxss\\\n",
    "\n",
    "if that's a thing you care about."
   ]
  },
  {
   "cell_type": "markdown",
   "metadata": {},
   "source": [
    "# 2. Installing Basic Packages"
   ]
  },
  {
   "cell_type": "markdown",
   "metadata": {},
   "source": [
    "Some things you're going to want below (these are not automatically installed, but probably should have been).\n",
    "\n",
    "> `sudo apt-get install gcc gfortran git lsb`\n",
    "\n",
    "* [gcc](https://gcc.gnu.org/) - **G**NU **C**ompiler **C**ollection - Contains libraries and front ends for many essential programming languages, including C and C++\n",
    "* [gfortran](https://gcc.gnu.org/wiki/GFortran) - GNU Fortran Compiler.\n",
    "* [git](https://git-scm.com) - Version control system. Mercurial is an alternative. Has an interesting etymology I won't bother you with. There's a useful tutorial in the link.\n",
    "* [lsb](https://wiki.linuxfoundation.org/lsb/start) - **L**inux **S**tandard **B**ase. An effort to standardize the compatibility of code between Linux platforms, past and future."
   ]
  },
  {
   "cell_type": "markdown",
   "metadata": {
    "collapsed": true
   },
   "source": [
    "# 3. Conda"
   ]
  },
  {
   "cell_type": "markdown",
   "metadata": {
    "collapsed": true
   },
   "source": [
    "This doesn't have to be done the following way, but this is how I have my workspaces set up currently. If you want, install anaconda (for a full install of major packages, such as **scipy**, **matplotlib**, **numpy**, &c. If you want the bare bones install, do miniconda. If you already have Conda installed, skip this step but consider running\n",
    "> `conda update conda`\n",
    "\n",
    "just to make sure you're on a fully up-to-date build.\n"
   ]
  },
  {
   "cell_type": "markdown",
   "metadata": {},
   "source": [
    "## 3.1a. Miniconda\n",
    "\n",
    "Two choices. Either [open this link](https://conda.io/miniconda.html) and download the version of miniconda you'd like (I use 3.6 64-bit since you can always create a python 2 workspace)  or navigate to a place you'd like to download the installer, and run:\n",
    "> `wget https://repo.continuum.io/miniconda/Miniconda3-latest-Linux-x86_64.sh`\n",
    "\n",
    "this should download the file to your current directory. After that, run the installer with\n",
    "\n",
    "> `bash Miniconda3-latest-Linux-x86_64.sh`\n",
    "\n",
    "and follow all the relevant instructions, such as accepting the user agreement, changing the install directory, &c."
   ]
  },
  {
   "cell_type": "markdown",
   "metadata": {},
   "source": [
    "## 3.1b. Anaconda\n",
    "\n",
    "There are two basic ways to go about this (the same two ways as in 3.1a). You can download Anaconda from [this link](https://www.anaconda.com/download/) and grab the relevant one, or you can navigate to a directory you don't mind downloading a 0.5GB installer, and run:\n",
    "> `wget https://repo.continuum.io/archive/Anaconda3-5.0.1-Linux-x86_64.sh`\n",
    "\n",
    "which will download the Anaconda installer to your current directory. Then you can install Anaconda with\n",
    "> `bash Anaconda3-5.0.1-Linux-x86_64.sh`\n",
    "\n",
    "and follow the installation instructions, which I'll leave to you to figure out (hint: you'll want to accept the license agreement!)"
   ]
  },
  {
   "cell_type": "markdown",
   "metadata": {},
   "source": [
    "## 3.2. Workspaces\n",
    "Workspaces are environments where you can run different versions of python and have different packages and dependencies installed. Let's make one.\n",
    "\n",
    "> `conda create -n [name] python=3`\n",
    "\n",
    "Change the 3 to a 2 if you want to use Python 2, but the future is now.\n",
    "This creates an environment. Now if you want to activate it, type\n",
    "> `source activate [name]`\n",
    "\n",
    "or \n",
    "> `. activate [name]`\n",
    "\n",
    "*.* and *source* have the same function. This puts you in your environment, and now you can work on projects or install packages. This is helpful if you want to test a package without dependencies in a clean environment to ensure it works.\n",
    "If you followed the Miniconda guide, you may want to install Anaconda now with \n",
    "> `conda install Anaconda`\n",
    "\n",
    "This will install Anaconda in this workspace, but it won't carry over to other workspaces. This is the \"advantage\" of Miniconda over Anaconda. On the other hand, if you only want certain packages (matplotlib, numpy, &c) you can simply install them the same way.\n",
    "> `conda install numpy`\n",
    "\n",
    "To exit a workspace, use *deactivate*.\n",
    "> `. deactivate`"
   ]
  },
  {
   "cell_type": "markdown",
   "metadata": {
    "collapsed": true
   },
   "source": [
    "## 3.4. Jupyter Notebooks\n",
    "\n",
    "Jupyter notebooks are documents combining text elements with code in a nice cell based package. You can use $LaTeX$ on the fly and easily create new commands, import JavaScript, HTML, CSS, and plenty more completely off my radar. They're neat. This document is a Jupyter Notebook. If this description is unsatisfying please see [the official guide](http://jupyter-notebook-beginner-guide.readthedocs.io/en/latest/what_is_jupyter.html) and go nuts. If you've installed Anaconda, you're ready to run a Jupyter Notebook. You can do this by running the obtusely named command\n",
    "> `jupyter notebook`\n",
    "\n",
    "A message will pop up saying\n",
    ">```\n",
    "Copy/paste this URL into your browser when you connect for the first time,\n",
    "to login with a token:\n",
    ">     http://localhost:8888/[gobbledygook]\n",
    "```\n",
    "\n",
    "[gobbledygook] will be some sort of key, and by pasting the url into your browser you'll open the jupyter notebook serer you've created. From here you can create and edit notebooks. Don't close the terminal you ran the server in, or you'll shutdown the server!\n",
    "If you want to end your session and close the server, press *ctrl + c* twice.\n",
    "\n",
    "### 3.4.1 Browser Configuration\n",
    "**I haven't been able to get the notebooks to remember my browser and open automatically. You can generate a jupyter config file with the below command.**\n",
    "> `jupyter notebook --generate-config`\n",
    "\n",
    "There will be a line in here that reads\n",
    "> `#c.NotebookApp.browser = ''`\n",
    "\n",
    "Editing this will set the default browser, but I haven't gotten it to work yet."
   ]
  },
  {
   "cell_type": "markdown",
   "metadata": {},
   "source": [
    "# 4. Git, Hg, SSH"
   ]
  },
  {
   "cell_type": "markdown",
   "metadata": {},
   "source": [
    "Assuming you're using some variety of repository (repo) management service, you'll want to generate and configure SSH keys to connect and all that jazz. I'll go through this and some basic commands using Gitlab (since that's what I'm using currently). A few basic things for Mercurial, cutely nicknamed Hg, will also appear."
   ]
  },
  {
   "cell_type": "markdown",
   "metadata": {},
   "source": [
    "## 4.1. SSH"
   ]
  },
  {
   "cell_type": "markdown",
   "metadata": {},
   "source": [
    "If you don't already have an SSH key (and if you just set up Ubuntu that's almost guaranteed) you'll need to generate one. You can check if you have one in the ~/.ssh folder. The file will be called *id_rsa.pub* or *id_rsa* or something.\n",
    "To generate a new key, run this.\n",
    "> `ssh-keygen -t rsa -C \"[your email address goes here]\"`\n",
    "\n",
    "Use an email you want tied to your SSH...ing. This will generate the two files above. In order to SSH into a git repository or a server, &c, you'll need to copy the key from *id_rsa.pub* and paste it in the appropriate location on whatever service you're using. For example, on gitlab you'll need to go to **settings -> SSH keys** and then paste your key in the box provided. After this you should be ready to set up git (or Hg) repos and pull, clone, push projects. More on this later.\n",
    "* Configure SSH to autoauthenticate\n",
    "[Pot. Site](http://www.rebol.com/docs/ssh-auto-login.html)"
   ]
  },
  {
   "cell_type": "markdown",
   "metadata": {},
   "source": [
    "## 4.2. Later"
   ]
  },
  {
   "cell_type": "markdown",
   "metadata": {},
   "source": [
    "The next two sections will go over commands for git and mercurial, respectively."
   ]
  },
  {
   "cell_type": "markdown",
   "metadata": {},
   "source": [
    "## 4.3. Git Commands"
   ]
  },
  {
   "cell_type": "markdown",
   "metadata": {},
   "source": [
    "* init - \n",
    "* clone -\n",
    "* pull -\n",
    "* commit -\n",
    "* push -"
   ]
  },
  {
   "cell_type": "markdown",
   "metadata": {},
   "source": [
    "## 4.4. Hg Commands"
   ]
  },
  {
   "cell_type": "markdown",
   "metadata": {},
   "source": [
    "> `pip install mercurial`\n",
    "\n",
    "To clone an existing repository from bitbucket, &c, use\n",
    "> `hg clone ssh://hg@bitbucket.org/[location]`\n",
    "\n",
    "where the location is the address of the relevant repo. Run this and, if you have access to the project, you'll find a new directory wherever you cloned it."
   ]
  },
  {
   "cell_type": "markdown",
   "metadata": {},
   "source": [
    "# Appendix"
   ]
  },
  {
   "cell_type": "markdown",
   "metadata": {},
   "source": [
    "## A. Bash Cheat Sheet"
   ]
  },
  {
   "cell_type": "markdown",
   "metadata": {},
   "source": [
    "Below is a far from comprehensive dictionary of common linux commands. Try to tab complete as often as possible to save time, and to not have your boss/advisor/officemate roll their eyes at you every time you try to do something. Commands begin a line of input, followed by flags (modifiers) such as -a, -ri, &c. You'll see some of these explained further as they come up.\n",
    "\n",
    "man - **man**ual. I've broken with alphabetical order (restored below) to give you this meta-dictionary term. You can use *man* to search the linux manual for a particular term you may want to learn more about. Try this with any of the commands below to bypass my crappy descriptions and jump straight into the textbook ones. Example:\n",
    "> `man ls`\n",
    "\n",
    "<img src=\"pics/man ls.png\" style=\"width: 600px;\">\n",
    "\n",
    "----------------------------------------------------------------------------------\n",
    "* cat - From con**cat**enate, or to link things together. Takes files and combines or outputs them. To output, use cat and the relevant file location.\n",
    "> `cat [file]`   \n",
    "\n",
    "    The command below outputs the contents of text1.txt to a new file named text2.txt\n",
    "> `cat text1.txt >> text2.txt`\n",
    "\n",
    "\n",
    "* cd - **c**hange **d**irectory. Type the directory you want to move to afterwards, such as\n",
    "> `cd /folder/subfolder`\n",
    "\n",
    "    You can tab complete folder and file names. To move up one level, type\n",
    "> `cd ..`\n",
    "\n",
    "\n",
    "* [chmod](https://ss64.com/bash/chmod.html) - **ch**ange **mod**e; changes read/write permissions.\n",
    "\n",
    "\n",
    "* cp - **c**o**p**y a file to a new, specified location. Can be used with -r to **r**ecursively copy a full directory.\n",
    "    > `cp [file] [new file location]`\n",
    "    \n",
    "    >`cp -r [folder] [new folder location]`\n",
    "\n",
    "\n",
    "* grep - **G**lobal **r**egular **e**xpression **p**rint. Search a file for a string of text.\n",
    "> `grep [filename] [text to search]`\n",
    "\n",
    "\n",
    "* head - Prints the number of lines specified from the beginning of a file. See *tail*.\n",
    "> `head -# [filename]`\n",
    "\n",
    "\n",
    "* history - Display your input history. Can be used with -# to display a specified number of inputs.\n",
    "> `history -#`\n",
    "\n",
    "\n",
    "* ls - **l**i**s**t. Lists the files in a directory. Can be combined with a filename to list only that file. Use the tag -l to show file permissions, owner, and further information.\n",
    "\n",
    "\n",
    "* mkdir - **m**a**k**e **dir**ectory. Creates a directory in the location specified, or the current location.\n",
    "> `mkdir [folder name or path]`\n",
    "\n",
    "\n",
    "* more - Displays contents of a file one bit at a time. You can use the spacebar to see... **more**... of the file...\n",
    "\n",
    "\n",
    "* mv - **m**o**v**e a file to the new location specified. This can be used to rename a file, technically.\n",
    "> `mv [file] [new file location]`\n",
    "\n",
    "\n",
    "* pipe (|) - Takes the output of a command and passes it to a new command.\n",
    "> `ls | grep [keyword]`\n",
    "\n",
    "    You're getting fancy if you're using this.\n",
    "\n",
    "\n",
    "* rm - **r**e**m**ove. Remove the file specified after the command. There is no recycle bin. If you die in the Matrix you die in real life. Your file will be gone for good.\n",
    "    Adding the flag -r will **r**ecursively remove everything in the directory and below. You need this to delete a directory and the files inside it. Adding i (as in, -ri) will prompt you for each file before deleting. Adding f (as in, -rf) will **f**orce deletion without prompt.\n",
    "> `rm -rf [folder]`\n",
    "\n",
    "\n",
    "* rmdir - **r**e**m**ove **dir**ectory. Removes only the directory specified, and will only remove empty directories.\n",
    "\n",
    "\n",
    "* tail - Prints the number of lines specified from the end of a file. See *head*.\n",
    "> `tail -# [filename]`"
   ]
  },
  {
   "cell_type": "markdown",
   "metadata": {},
   "source": [
    "## B. Extras\n",
    "Here are some other things I've found I like. This is mostly for my own indexing.\n",
    "\n",
    "* [nbextensions](http://jupyter-contrib-nbextensions.readthedocs.io/en/latest/install.html) - This is a very cool collection of notebook extensions. I haven't played with most of these, but the table of contents generator is useful. Use the following commands to get it running.\n",
    "> `pip install jupyter_contrib_nbextensions\n",
    "> jupyter contrib nbextension install --user`\n",
    "    \n",
    "    There should now be a tab on your jupyter server. Click away and play around."
   ]
  },
  {
   "cell_type": "markdown",
   "metadata": {
    "collapsed": true
   },
   "source": [
    "## Z. Things to Add"
   ]
  },
  {
   "cell_type": "markdown",
   "metadata": {
    "cell_style": "center"
   },
   "source": [
    "* Git and Hg sections "
   ]
  },
  {
   "cell_type": "code",
   "execution_count": null,
   "metadata": {
    "collapsed": true
   },
   "outputs": [],
   "source": []
  }
 ],
 "metadata": {
  "kernelspec": {
   "display_name": "Python 3",
   "language": "python",
   "name": "python3"
  },
  "language_info": {
   "codemirror_mode": {
    "name": "ipython",
    "version": 3
   },
   "file_extension": ".py",
   "mimetype": "text/x-python",
   "name": "python",
   "nbconvert_exporter": "python",
   "pygments_lexer": "ipython3",
   "version": "3.6.3"
  },
  "toc": {
   "nav_menu": {
    "height": "72px",
    "width": "338px"
   },
   "number_sections": false,
   "sideBar": true,
   "skip_h1_title": false,
   "toc_cell": true,
   "toc_position": {
    "height": "787px",
    "left": "0px",
    "right": "1208px",
    "top": "106px",
    "width": "232px"
   },
   "toc_section_display": "block",
   "toc_window_display": false
  }
 },
 "nbformat": 4,
 "nbformat_minor": 1
}
